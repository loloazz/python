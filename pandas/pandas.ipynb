{
 "cells": [
  {
   "cell_type": "code",
   "execution_count": 3,
   "id": "124149d2",
   "metadata": {},
   "outputs": [],
   "source": [
    "import  pandas as pd\n"
   ]
  },
  {
   "cell_type": "code",
   "execution_count": 4,
   "id": "85907e11",
   "metadata": {},
   "outputs": [],
   "source": [
    "s1=pd.Series([1,2,3,4])"
   ]
  },
  {
   "cell_type": "code",
   "execution_count": 2,
   "id": "caa29f21",
   "metadata": {},
   "outputs": [],
   "source": []
  },
  {
   "cell_type": "code",
   "execution_count": 5,
   "id": "cad475f5",
   "metadata": {},
   "outputs": [
    {
     "data": {
      "text/plain": "4"
     },
     "execution_count": 5,
     "metadata": {},
     "output_type": "execute_result"
    }
   ],
   "source": [
    "s1.max()"
   ]
  },
  {
   "cell_type": "code",
   "execution_count": 6,
   "id": "ef0dd944",
   "metadata": {},
   "outputs": [
    {
     "data": {
      "text/plain": [
       "1.2909944487358056"
      ]
     },
     "execution_count": 6,
     "metadata": {},
     "output_type": "execute_result"
    }
   ],
   "source": [
    "s1.std() # 标准差"
   ]
  },
  {
   "cell_type": "code",
   "execution_count": 11,
   "id": "d6a7afa2",
   "metadata": {},
   "outputs": [],
   "source": [
    "s2=pd.Series([1,2,3,4],index=[\"a\",\"b\",\"c\",\"d\"])"
   ]
  },
  {
   "cell_type": "code",
   "execution_count": 12,
   "id": "e299e5d4",
   "metadata": {},
   "outputs": [
    {
     "name": "stdout",
     "output_type": "stream",
     "text": [
      "a    1\n",
      "b    2\n",
      "c    3\n",
      "d    4\n",
      "dtype: int64 <class 'pandas.core.series.Series'>\n"
     ]
    }
   ],
   "source": [
    "print(s2,type(s2))"
   ]
  },
  {
   "cell_type": "code",
   "execution_count": 10,
   "id": "59f151ad",
   "metadata": {},
   "outputs": [
    {
     "data": {
      "text/plain": "1"
     },
     "execution_count": 10,
     "metadata": {},
     "output_type": "execute_result"
    }
   ],
   "source": [
    "s2[\"a\"]"
   ]
  },
  {
   "cell_type": "code",
   "execution_count": 7,
   "id": "de8bc670",
   "metadata": {},
   "outputs": [
    {
     "ename": "KeyError",
     "evalue": "'D'",
     "output_type": "error",
     "traceback": [
      "\u001B[1;31m---------------------------------------------------------------------------\u001B[0m",
      "\u001B[1;31mKeyError\u001B[0m                                  Traceback (most recent call last)",
      "\u001B[1;32md:\\python\\python37\\lib\\site-packages\\pandas\\core\\indexes\\base.py\u001B[0m in \u001B[0;36mget_loc\u001B[1;34m(self, key, method, tolerance)\u001B[0m\n\u001B[0;32m   3360\u001B[0m             \u001B[1;32mtry\u001B[0m\u001B[1;33m:\u001B[0m\u001B[1;33m\u001B[0m\u001B[1;33m\u001B[0m\u001B[0m\n\u001B[1;32m-> 3361\u001B[1;33m                 \u001B[1;32mreturn\u001B[0m \u001B[0mself\u001B[0m\u001B[1;33m.\u001B[0m\u001B[0m_engine\u001B[0m\u001B[1;33m.\u001B[0m\u001B[0mget_loc\u001B[0m\u001B[1;33m(\u001B[0m\u001B[0mcasted_key\u001B[0m\u001B[1;33m)\u001B[0m\u001B[1;33m\u001B[0m\u001B[1;33m\u001B[0m\u001B[0m\n\u001B[0m\u001B[0;32m   3362\u001B[0m             \u001B[1;32mexcept\u001B[0m \u001B[0mKeyError\u001B[0m \u001B[1;32mas\u001B[0m \u001B[0merr\u001B[0m\u001B[1;33m:\u001B[0m\u001B[1;33m\u001B[0m\u001B[1;33m\u001B[0m\u001B[0m\n",
      "\u001B[1;32md:\\python\\python37\\lib\\site-packages\\pandas\\_libs\\index.pyx\u001B[0m in \u001B[0;36mpandas._libs.index.IndexEngine.get_loc\u001B[1;34m()\u001B[0m\n",
      "\u001B[1;32md:\\python\\python37\\lib\\site-packages\\pandas\\_libs\\index.pyx\u001B[0m in \u001B[0;36mpandas._libs.index.IndexEngine.get_loc\u001B[1;34m()\u001B[0m\n",
      "\u001B[1;32mpandas\\_libs\\hashtable_class_helper.pxi\u001B[0m in \u001B[0;36mpandas._libs.hashtable.PyObjectHashTable.get_item\u001B[1;34m()\u001B[0m\n",
      "\u001B[1;32mpandas\\_libs\\hashtable_class_helper.pxi\u001B[0m in \u001B[0;36mpandas._libs.hashtable.PyObjectHashTable.get_item\u001B[1;34m()\u001B[0m\n",
      "\u001B[1;31mKeyError\u001B[0m: 'D'",
      "\nThe above exception was the direct cause of the following exception:\n",
      "\u001B[1;31mKeyError\u001B[0m                                  Traceback (most recent call last)",
      "\u001B[1;32m~\\AppData\\Local\\Temp/ipykernel_15968/3921795723.py\u001B[0m in \u001B[0;36m<module>\u001B[1;34m\u001B[0m\n\u001B[1;32m----> 1\u001B[1;33m \u001B[0ms2\u001B[0m\u001B[1;33m[\u001B[0m\u001B[1;34m\"D\"\u001B[0m\u001B[1;33m]\u001B[0m \u001B[1;31m# 区分大小写\u001B[0m\u001B[1;33m\u001B[0m\u001B[1;33m\u001B[0m\u001B[0m\n\u001B[0m\u001B[0;32m      2\u001B[0m \u001B[1;33m\u001B[0m\u001B[0m\n",
      "\u001B[1;32md:\\python\\python37\\lib\\site-packages\\pandas\\core\\series.py\u001B[0m in \u001B[0;36m__getitem__\u001B[1;34m(self, key)\u001B[0m\n\u001B[0;32m    940\u001B[0m \u001B[1;33m\u001B[0m\u001B[0m\n\u001B[0;32m    941\u001B[0m         \u001B[1;32melif\u001B[0m \u001B[0mkey_is_scalar\u001B[0m\u001B[1;33m:\u001B[0m\u001B[1;33m\u001B[0m\u001B[1;33m\u001B[0m\u001B[0m\n\u001B[1;32m--> 942\u001B[1;33m             \u001B[1;32mreturn\u001B[0m \u001B[0mself\u001B[0m\u001B[1;33m.\u001B[0m\u001B[0m_get_value\u001B[0m\u001B[1;33m(\u001B[0m\u001B[0mkey\u001B[0m\u001B[1;33m)\u001B[0m\u001B[1;33m\u001B[0m\u001B[1;33m\u001B[0m\u001B[0m\n\u001B[0m\u001B[0;32m    943\u001B[0m \u001B[1;33m\u001B[0m\u001B[0m\n\u001B[0;32m    944\u001B[0m         \u001B[1;32mif\u001B[0m \u001B[0mis_hashable\u001B[0m\u001B[1;33m(\u001B[0m\u001B[0mkey\u001B[0m\u001B[1;33m)\u001B[0m\u001B[1;33m:\u001B[0m\u001B[1;33m\u001B[0m\u001B[1;33m\u001B[0m\u001B[0m\n",
      "\u001B[1;32md:\\python\\python37\\lib\\site-packages\\pandas\\core\\series.py\u001B[0m in \u001B[0;36m_get_value\u001B[1;34m(self, label, takeable)\u001B[0m\n\u001B[0;32m   1049\u001B[0m \u001B[1;33m\u001B[0m\u001B[0m\n\u001B[0;32m   1050\u001B[0m         \u001B[1;31m# Similar to Index.get_value, but we do not fall back to positional\u001B[0m\u001B[1;33m\u001B[0m\u001B[1;33m\u001B[0m\u001B[1;33m\u001B[0m\u001B[0m\n\u001B[1;32m-> 1051\u001B[1;33m         \u001B[0mloc\u001B[0m \u001B[1;33m=\u001B[0m \u001B[0mself\u001B[0m\u001B[1;33m.\u001B[0m\u001B[0mindex\u001B[0m\u001B[1;33m.\u001B[0m\u001B[0mget_loc\u001B[0m\u001B[1;33m(\u001B[0m\u001B[0mlabel\u001B[0m\u001B[1;33m)\u001B[0m\u001B[1;33m\u001B[0m\u001B[1;33m\u001B[0m\u001B[0m\n\u001B[0m\u001B[0;32m   1052\u001B[0m         \u001B[1;32mreturn\u001B[0m \u001B[0mself\u001B[0m\u001B[1;33m.\u001B[0m\u001B[0mindex\u001B[0m\u001B[1;33m.\u001B[0m\u001B[0m_get_values_for_loc\u001B[0m\u001B[1;33m(\u001B[0m\u001B[0mself\u001B[0m\u001B[1;33m,\u001B[0m \u001B[0mloc\u001B[0m\u001B[1;33m,\u001B[0m \u001B[0mlabel\u001B[0m\u001B[1;33m)\u001B[0m\u001B[1;33m\u001B[0m\u001B[1;33m\u001B[0m\u001B[0m\n\u001B[0;32m   1053\u001B[0m \u001B[1;33m\u001B[0m\u001B[0m\n",
      "\u001B[1;32md:\\python\\python37\\lib\\site-packages\\pandas\\core\\indexes\\base.py\u001B[0m in \u001B[0;36mget_loc\u001B[1;34m(self, key, method, tolerance)\u001B[0m\n\u001B[0;32m   3361\u001B[0m                 \u001B[1;32mreturn\u001B[0m \u001B[0mself\u001B[0m\u001B[1;33m.\u001B[0m\u001B[0m_engine\u001B[0m\u001B[1;33m.\u001B[0m\u001B[0mget_loc\u001B[0m\u001B[1;33m(\u001B[0m\u001B[0mcasted_key\u001B[0m\u001B[1;33m)\u001B[0m\u001B[1;33m\u001B[0m\u001B[1;33m\u001B[0m\u001B[0m\n\u001B[0;32m   3362\u001B[0m             \u001B[1;32mexcept\u001B[0m \u001B[0mKeyError\u001B[0m \u001B[1;32mas\u001B[0m \u001B[0merr\u001B[0m\u001B[1;33m:\u001B[0m\u001B[1;33m\u001B[0m\u001B[1;33m\u001B[0m\u001B[0m\n\u001B[1;32m-> 3363\u001B[1;33m                 \u001B[1;32mraise\u001B[0m \u001B[0mKeyError\u001B[0m\u001B[1;33m(\u001B[0m\u001B[0mkey\u001B[0m\u001B[1;33m)\u001B[0m \u001B[1;32mfrom\u001B[0m \u001B[0merr\u001B[0m\u001B[1;33m\u001B[0m\u001B[1;33m\u001B[0m\u001B[0m\n\u001B[0m\u001B[0;32m   3364\u001B[0m \u001B[1;33m\u001B[0m\u001B[0m\n\u001B[0;32m   3365\u001B[0m         \u001B[1;32mif\u001B[0m \u001B[0mis_scalar\u001B[0m\u001B[1;33m(\u001B[0m\u001B[0mkey\u001B[0m\u001B[1;33m)\u001B[0m \u001B[1;32mand\u001B[0m \u001B[0misna\u001B[0m\u001B[1;33m(\u001B[0m\u001B[0mkey\u001B[0m\u001B[1;33m)\u001B[0m \u001B[1;32mand\u001B[0m \u001B[1;32mnot\u001B[0m \u001B[0mself\u001B[0m\u001B[1;33m.\u001B[0m\u001B[0mhasnans\u001B[0m\u001B[1;33m:\u001B[0m\u001B[1;33m\u001B[0m\u001B[1;33m\u001B[0m\u001B[0m\n",
      "\u001B[1;31mKeyError\u001B[0m: 'D'"
     ]
    }
   ],
   "source": [
    "s2[\"D\"] # 区分大小写"
   ]
  },
  {
   "cell_type": "code",
   "execution_count": 13,
   "id": "2e085d65",
   "metadata": {},
   "outputs": [],
   "source": [
    "dict2={\n",
    "    \"name\":[\"zjc\",'yjw',\"yaol\",\"dasd\"],\n",
    "    \"id\":[1,2,3,4],\n",
    "    \"age\":[18,19,20,21]\n",
    "}"
   ]
  },
  {
   "cell_type": "code",
   "execution_count": 15,
   "id": "1e906de5",
   "metadata": {},
   "outputs": [
    {
     "name": "stdout",
     "output_type": "stream",
     "text": [
      "{'name': ['zjc', 'yjw', 'yaol', 'dasd'], 'id': [1, 2, 3, 4], 'age': [18, 19, 20, 21]} <class 'dict'>\n"
     ]
    }
   ],
   "source": [
    "print(dict2,type(dict2))"
   ]
  },
  {
   "cell_type": "code",
   "execution_count": 14,
   "id": "901de288",
   "metadata": {},
   "outputs": [],
   "source": [
    "dict3={\n",
    "    \"name\":[\"zjc\",'yjw',\"yaol\",\"dasd\"],\n",
    "    'id':[1,2,3,4],\n",
    "    \"age\":[18,19,20,21]\n",
    "}"
   ]
  },
  {
   "cell_type": "code",
   "execution_count": 23,
   "id": "4fb8f746",
   "metadata": {},
   "outputs": [
    {
     "name": "stdout",
     "output_type": "stream",
     "text": [
      "{'name': ['zjc', 'yjw', 'yaol', 'dasd'], 'id': [1, 2, 3, 4], 'age': [18, 19, 20, 21]} <class 'dict'>\n"
     ]
    }
   ],
   "source": [
    "print(dict3,type(dict3))"
   ]
  },
  {
   "cell_type": "code",
   "execution_count": 9,
   "id": "e09d8562",
   "metadata": {},
   "outputs": [
    {
     "ename": "NameError",
     "evalue": "name 'dict2' is not defined",
     "output_type": "error",
     "traceback": [
      "\u001B[1;31m---------------------------------------------------------------------------\u001B[0m",
      "\u001B[1;31mNameError\u001B[0m                                 Traceback (most recent call last)",
      "\u001B[1;32m~\\AppData\\Local\\Temp/ipykernel_15968/3192983545.py\u001B[0m in \u001B[0;36m<module>\u001B[1;34m\u001B[0m\n\u001B[1;32m----> 1\u001B[1;33m \u001B[0mdf1\u001B[0m\u001B[1;33m=\u001B[0m\u001B[0mpd\u001B[0m\u001B[1;33m.\u001B[0m\u001B[0mDataFrame\u001B[0m\u001B[1;33m(\u001B[0m\u001B[0mdict2\u001B[0m\u001B[1;33m)\u001B[0m\u001B[1;33m\u001B[0m\u001B[1;33m\u001B[0m\u001B[0m\n\u001B[0m\u001B[0;32m      2\u001B[0m \u001B[1;33m\u001B[0m\u001B[0m\n",
      "\u001B[1;31mNameError\u001B[0m: name 'dict2' is not defined"
     ]
    }
   ],
   "source": [
    "df1=pd.DataFrame(dict2)"
   ]
  },
  {
   "cell_type": "code",
   "execution_count": 26,
   "id": "46887fd7",
   "metadata": {},
   "outputs": [
    {
     "name": "stdout",
     "output_type": "stream",
     "text": [
      "   name  id  age\n",
      "0   zjc   1   18\n",
      "1   yjw   2   19\n",
      "2  yaol   3   20\n",
      "3  dasd   4   21 <class 'pandas.core.frame.DataFrame'>\n"
     ]
    }
   ],
   "source": [
    "print(df1,type(df1))  "
   ]
  },
  {
   "cell_type": "code",
   "execution_count": 28,
   "id": "ad1ecc53",
   "metadata": {},
   "outputs": [
    {
     "data": {
      "text/html": [
       "<div>\n",
       "<style scoped>\n",
       "    .dataframe tbody tr th:only-of-type {\n",
       "        vertical-align: middle;\n",
       "    }\n",
       "\n",
       "    .dataframe tbody tr th {\n",
       "        vertical-align: top;\n",
       "    }\n",
       "\n",
       "    .dataframe thead th {\n",
       "        text-align: right;\n",
       "    }\n",
       "</style>\n",
       "<table border=\"1\" class=\"dataframe\">\n",
       "  <thead>\n",
       "    <tr style=\"text-align: right;\">\n",
       "      <th></th>\n",
       "      <th>name</th>\n",
       "      <th>age</th>\n",
       "    </tr>\n",
       "  </thead>\n",
       "  <tbody>\n",
       "    <tr>\n",
       "      <th>0</th>\n",
       "      <td>zjc</td>\n",
       "      <td>18</td>\n",
       "    </tr>\n",
       "    <tr>\n",
       "      <th>1</th>\n",
       "      <td>yjw</td>\n",
       "      <td>19</td>\n",
       "    </tr>\n",
       "    <tr>\n",
       "      <th>2</th>\n",
       "      <td>yaol</td>\n",
       "      <td>20</td>\n",
       "    </tr>\n",
       "    <tr>\n",
       "      <th>3</th>\n",
       "      <td>dasd</td>\n",
       "      <td>21</td>\n",
       "    </tr>\n",
       "  </tbody>\n",
       "</table>\n",
       "</div>"
      ],
      "text/plain": [
       "   name  age\n",
       "0   zjc   18\n",
       "1   yjw   19\n",
       "2  yaol   20\n",
       "3  dasd   21"
      ]
     },
     "execution_count": 28,
     "metadata": {},
     "output_type": "execute_result"
    }
   ],
   "source": [
    "df1[['name','age']]  # 传进一个list得到  里面列名中的所有数据"
   ]
  },
  {
   "cell_type": "code",
   "execution_count": 29,
   "id": "c2dae1ec",
   "metadata": {},
   "outputs": [
    {
     "data": {
      "text/html": [
       "<div>\n",
       "<style scoped>\n",
       "    .dataframe tbody tr th:only-of-type {\n",
       "        vertical-align: middle;\n",
       "    }\n",
       "\n",
       "    .dataframe tbody tr th {\n",
       "        vertical-align: top;\n",
       "    }\n",
       "\n",
       "    .dataframe thead th {\n",
       "        text-align: right;\n",
       "    }\n",
       "</style>\n",
       "<table border=\"1\" class=\"dataframe\">\n",
       "  <thead>\n",
       "    <tr style=\"text-align: right;\">\n",
       "      <th></th>\n",
       "      <th>name</th>\n",
       "      <th>id</th>\n",
       "      <th>age</th>\n",
       "    </tr>\n",
       "  </thead>\n",
       "  <tbody>\n",
       "    <tr>\n",
       "      <th>0</th>\n",
       "      <td>zjc</td>\n",
       "      <td>1</td>\n",
       "      <td>18</td>\n",
       "    </tr>\n",
       "    <tr>\n",
       "      <th>1</th>\n",
       "      <td>yjw</td>\n",
       "      <td>2</td>\n",
       "      <td>19</td>\n",
       "    </tr>\n",
       "    <tr>\n",
       "      <th>2</th>\n",
       "      <td>yaol</td>\n",
       "      <td>3</td>\n",
       "      <td>20</td>\n",
       "    </tr>\n",
       "    <tr>\n",
       "      <th>3</th>\n",
       "      <td>dasd</td>\n",
       "      <td>4</td>\n",
       "      <td>21</td>\n",
       "    </tr>\n",
       "  </tbody>\n",
       "</table>\n",
       "</div>"
      ],
      "text/plain": [
       "   name  id  age\n",
       "0   zjc   1   18\n",
       "1   yjw   2   19\n",
       "2  yaol   3   20\n",
       "3  dasd   4   21"
      ]
     },
     "execution_count": 29,
     "metadata": {},
     "output_type": "execute_result"
    }
   ],
   "source": [
    "df1.head(10)"
   ]
  },
  {
   "cell_type": "code",
   "execution_count": 16,
   "id": "79508d9d",
   "metadata": {},
   "outputs": [
    {
     "ename": "NameError",
     "evalue": "name 'df1' is not defined",
     "output_type": "error",
     "traceback": [
      "\u001B[1;31m---------------------------------------------------------------------------\u001B[0m",
      "\u001B[1;31mNameError\u001B[0m                                 Traceback (most recent call last)",
      "\u001B[1;32m~\\AppData\\Local\\Temp/ipykernel_15968/1161097206.py\u001B[0m in \u001B[0;36m<module>\u001B[1;34m\u001B[0m\n\u001B[1;32m----> 1\u001B[1;33m \u001B[0mdf1\u001B[0m\u001B[1;33m[\u001B[0m\u001B[1;34m'name'\u001B[0m\u001B[1;33m]\u001B[0m \u001B[1;31m# 得到单个列 直接  把列名传进去即可\u001B[0m\u001B[1;33m\u001B[0m\u001B[1;33m\u001B[0m\u001B[0m\n\u001B[0m\u001B[0;32m      2\u001B[0m \u001B[1;33m\u001B[0m\u001B[0m\n",
      "\u001B[1;31mNameError\u001B[0m: name 'df1' is not defined"
     ]
    }
   ],
   "source": [
    "\n",
    "df1['name'] # 得到单个列 直接  把列名传进去即可"
   ]
  },
  {
   "cell_type": "code",
   "execution_count": 21,
   "id": "ded6d808",
   "metadata": {},
   "outputs": [],
   "source": [
    "students_df= pd.read_csv(\"../data/students.txt\",header=None,names=[\"id\",\"name\",\"age\",\"gendar\",\"clazz\"])\n"
   ]
  },
  {
   "cell_type": "code",
   "execution_count": null,
   "id": "6fd6e412",
   "metadata": {},
   "outputs": [],
   "source": []
  },
  {
   "cell_type": "code",
   "execution_count": 62,
   "id": "e78a40ac",
   "metadata": {},
   "outputs": [],
   "source": [
    "score_df= pd.read_csv(\"../data/score.txt\",header=None,names=[\"sid\",\"cid\",\"score\"])"
   ]
  },
  {
   "cell_type": "code",
   "execution_count": 63,
   "id": "be50b6fa",
   "metadata": {},
   "outputs": [
    {
     "name": "stdout",
     "output_type": "stream",
     "text": [
      "<class 'pandas.core.frame.DataFrame'>\n",
      "RangeIndex: 6000 entries, 0 to 5999\n",
      "Data columns (total 3 columns):\n",
      " #   Column  Non-Null Count  Dtype\n",
      "---  ------  --------------  -----\n",
      " 0   sid     6000 non-null   int64\n",
      " 1   cid     6000 non-null   int64\n",
      " 2   score   6000 non-null   int64\n",
      "dtypes: int64(3)\n",
      "memory usage: 140.8 KB\n"
     ]
    }
   ],
   "source": [
    "score_df.info() # 查看每一列的信息\n"
   ]
  },
  {
   "cell_type": "code",
   "execution_count": 64,
   "id": "bb6e15dd",
   "metadata": {},
   "outputs": [
    {
     "data": {
      "text/plain": "                sid           cid        score\ncount  6.000000e+03  6.000000e+03  6000.000000\nmean   1.500101e+09  1.000004e+06    62.117333\nstd    2.886990e+02  2.589536e+00    38.808443\nmin    1.500100e+09  1.000001e+06     0.000000\n25%    1.500100e+09  1.000002e+06    30.000000\n50%    1.500101e+09  1.000004e+06    59.000000\n75%    1.500101e+09  1.000006e+06    90.000000\nmax    1.500101e+09  1.000009e+06   149.000000",
      "text/html": "<div>\n<style scoped>\n    .dataframe tbody tr th:only-of-type {\n        vertical-align: middle;\n    }\n\n    .dataframe tbody tr th {\n        vertical-align: top;\n    }\n\n    .dataframe thead th {\n        text-align: right;\n    }\n</style>\n<table border=\"1\" class=\"dataframe\">\n  <thead>\n    <tr style=\"text-align: right;\">\n      <th></th>\n      <th>sid</th>\n      <th>cid</th>\n      <th>score</th>\n    </tr>\n  </thead>\n  <tbody>\n    <tr>\n      <th>count</th>\n      <td>6.000000e+03</td>\n      <td>6.000000e+03</td>\n      <td>6000.000000</td>\n    </tr>\n    <tr>\n      <th>mean</th>\n      <td>1.500101e+09</td>\n      <td>1.000004e+06</td>\n      <td>62.117333</td>\n    </tr>\n    <tr>\n      <th>std</th>\n      <td>2.886990e+02</td>\n      <td>2.589536e+00</td>\n      <td>38.808443</td>\n    </tr>\n    <tr>\n      <th>min</th>\n      <td>1.500100e+09</td>\n      <td>1.000001e+06</td>\n      <td>0.000000</td>\n    </tr>\n    <tr>\n      <th>25%</th>\n      <td>1.500100e+09</td>\n      <td>1.000002e+06</td>\n      <td>30.000000</td>\n    </tr>\n    <tr>\n      <th>50%</th>\n      <td>1.500101e+09</td>\n      <td>1.000004e+06</td>\n      <td>59.000000</td>\n    </tr>\n    <tr>\n      <th>75%</th>\n      <td>1.500101e+09</td>\n      <td>1.000006e+06</td>\n      <td>90.000000</td>\n    </tr>\n    <tr>\n      <th>max</th>\n      <td>1.500101e+09</td>\n      <td>1.000009e+06</td>\n      <td>149.000000</td>\n    </tr>\n  </tbody>\n</table>\n</div>"
     },
     "execution_count": 64,
     "metadata": {},
     "output_type": "execute_result"
    }
   ],
   "source": [
    "score_df.describe() # 查看数值型的列的一些统计信息\n"
   ]
  },
  {
   "cell_type": "code",
   "execution_count": 27,
   "id": "8925c3eb",
   "metadata": {},
   "outputs": [],
   "source": [
    "std_Bool=students_df['clazz']=='文科一班'\n"
   ]
  },
  {
   "cell_type": "code",
   "execution_count": 29,
   "id": "1fd328ef",
   "metadata": {},
   "outputs": [
    {
     "data": {
      "text/plain": "    index          id name  age gendar clazz\n0      15  1500100016  潘访烟   23      女  文科一班\n1      36  1500100037  顾向松   22      女  文科一班\n2      54  1500100055  卫鸿熙   24      男  文科一班\n3      68  1500100069  束采波   22      女  文科一班\n4      81  1500100082  凌思菱   22      女  文科一班\n..    ...         ...  ...  ...    ...   ...\n67    950  1500100951  平彭泽   22      男  文科一班\n68    956  1500100957  杜易云   21      女  文科一班\n69    972  1500100973  钮幼南   23      女  文科一班\n70    984  1500100985  申飞珍   21      女  文科一班\n71    985  1500100986  左天曼   22      女  文科一班\n\n[72 rows x 6 columns]",
      "text/html": "<div>\n<style scoped>\n    .dataframe tbody tr th:only-of-type {\n        vertical-align: middle;\n    }\n\n    .dataframe tbody tr th {\n        vertical-align: top;\n    }\n\n    .dataframe thead th {\n        text-align: right;\n    }\n</style>\n<table border=\"1\" class=\"dataframe\">\n  <thead>\n    <tr style=\"text-align: right;\">\n      <th></th>\n      <th>index</th>\n      <th>id</th>\n      <th>name</th>\n      <th>age</th>\n      <th>gendar</th>\n      <th>clazz</th>\n    </tr>\n  </thead>\n  <tbody>\n    <tr>\n      <th>0</th>\n      <td>15</td>\n      <td>1500100016</td>\n      <td>潘访烟</td>\n      <td>23</td>\n      <td>女</td>\n      <td>文科一班</td>\n    </tr>\n    <tr>\n      <th>1</th>\n      <td>36</td>\n      <td>1500100037</td>\n      <td>顾向松</td>\n      <td>22</td>\n      <td>女</td>\n      <td>文科一班</td>\n    </tr>\n    <tr>\n      <th>2</th>\n      <td>54</td>\n      <td>1500100055</td>\n      <td>卫鸿熙</td>\n      <td>24</td>\n      <td>男</td>\n      <td>文科一班</td>\n    </tr>\n    <tr>\n      <th>3</th>\n      <td>68</td>\n      <td>1500100069</td>\n      <td>束采波</td>\n      <td>22</td>\n      <td>女</td>\n      <td>文科一班</td>\n    </tr>\n    <tr>\n      <th>4</th>\n      <td>81</td>\n      <td>1500100082</td>\n      <td>凌思菱</td>\n      <td>22</td>\n      <td>女</td>\n      <td>文科一班</td>\n    </tr>\n    <tr>\n      <th>...</th>\n      <td>...</td>\n      <td>...</td>\n      <td>...</td>\n      <td>...</td>\n      <td>...</td>\n      <td>...</td>\n    </tr>\n    <tr>\n      <th>67</th>\n      <td>950</td>\n      <td>1500100951</td>\n      <td>平彭泽</td>\n      <td>22</td>\n      <td>男</td>\n      <td>文科一班</td>\n    </tr>\n    <tr>\n      <th>68</th>\n      <td>956</td>\n      <td>1500100957</td>\n      <td>杜易云</td>\n      <td>21</td>\n      <td>女</td>\n      <td>文科一班</td>\n    </tr>\n    <tr>\n      <th>69</th>\n      <td>972</td>\n      <td>1500100973</td>\n      <td>钮幼南</td>\n      <td>23</td>\n      <td>女</td>\n      <td>文科一班</td>\n    </tr>\n    <tr>\n      <th>70</th>\n      <td>984</td>\n      <td>1500100985</td>\n      <td>申飞珍</td>\n      <td>21</td>\n      <td>女</td>\n      <td>文科一班</td>\n    </tr>\n    <tr>\n      <th>71</th>\n      <td>985</td>\n      <td>1500100986</td>\n      <td>左天曼</td>\n      <td>22</td>\n      <td>女</td>\n      <td>文科一班</td>\n    </tr>\n  </tbody>\n</table>\n<p>72 rows × 6 columns</p>\n</div>"
     },
     "execution_count": 29,
     "metadata": {},
     "output_type": "execute_result"
    }
   ],
   "source": [
    "students_df[std_Bool].reset_index()\n"
   ]
  },
  {
   "cell_type": "code",
   "execution_count": 38,
   "id": "4f490f60",
   "metadata": {},
   "outputs": [],
   "source": [
    "# 统计每个班级的人数  方式一\n",
    "clazz_group_count=students_df.groupby('clazz').agg('count')[['name']].reset_index()\n"
   ]
  },
  {
   "cell_type": "code",
   "execution_count": 39,
   "id": "04f8656d",
   "metadata": {},
   "outputs": [
    {
     "data": {
      "text/plain": "   clazz  cnt\n0   文科一班   72\n1   文科三班   94\n2   文科二班   87\n3   文科五班   84\n4   文科六班  104\n5   文科四班   81\n6   理科一班   78\n7   理科三班   68\n8   理科二班   79\n9   理科五班   70\n10  理科六班   92\n11  理科四班   91",
      "text/html": "<div>\n<style scoped>\n    .dataframe tbody tr th:only-of-type {\n        vertical-align: middle;\n    }\n\n    .dataframe tbody tr th {\n        vertical-align: top;\n    }\n\n    .dataframe thead th {\n        text-align: right;\n    }\n</style>\n<table border=\"1\" class=\"dataframe\">\n  <thead>\n    <tr style=\"text-align: right;\">\n      <th></th>\n      <th>clazz</th>\n      <th>cnt</th>\n    </tr>\n  </thead>\n  <tbody>\n    <tr>\n      <th>0</th>\n      <td>文科一班</td>\n      <td>72</td>\n    </tr>\n    <tr>\n      <th>1</th>\n      <td>文科三班</td>\n      <td>94</td>\n    </tr>\n    <tr>\n      <th>2</th>\n      <td>文科二班</td>\n      <td>87</td>\n    </tr>\n    <tr>\n      <th>3</th>\n      <td>文科五班</td>\n      <td>84</td>\n    </tr>\n    <tr>\n      <th>4</th>\n      <td>文科六班</td>\n      <td>104</td>\n    </tr>\n    <tr>\n      <th>5</th>\n      <td>文科四班</td>\n      <td>81</td>\n    </tr>\n    <tr>\n      <th>6</th>\n      <td>理科一班</td>\n      <td>78</td>\n    </tr>\n    <tr>\n      <th>7</th>\n      <td>理科三班</td>\n      <td>68</td>\n    </tr>\n    <tr>\n      <th>8</th>\n      <td>理科二班</td>\n      <td>79</td>\n    </tr>\n    <tr>\n      <th>9</th>\n      <td>理科五班</td>\n      <td>70</td>\n    </tr>\n    <tr>\n      <th>10</th>\n      <td>理科六班</td>\n      <td>92</td>\n    </tr>\n    <tr>\n      <th>11</th>\n      <td>理科四班</td>\n      <td>91</td>\n    </tr>\n  </tbody>\n</table>\n</div>"
     },
     "execution_count": 39,
     "metadata": {},
     "output_type": "execute_result"
    }
   ],
   "source": [
    "clazz_group_count.rename(columns={'name':\"cnt\"})"
   ]
  },
  {
   "cell_type": "code",
   "execution_count": 47,
   "id": "dde7e8ad",
   "metadata": {},
   "outputs": [],
   "source": [
    "# 统计每个班级的人数  方式2\n",
    "clazz_group_count2=students_df.groupby(\"clazz\")['id'].count().reset_index()\n",
    "\n"
   ]
  },
  {
   "cell_type": "code",
   "execution_count": 52,
   "id": "a88cc667",
   "metadata": {},
   "outputs": [],
   "source": [
    "clazz_group_count2.rename(columns={\"id\":\"cnt\"},inplace=True)\n",
    "\n"
   ]
  },
  {
   "cell_type": "code",
   "execution_count": 57,
   "outputs": [
    {
     "data": {
      "text/plain": "   clazz  cnt\n0   文科六班  104\n1   文科三班   94\n2   理科六班   92\n3   理科四班   91\n4   文科二班   87\n5   文科五班   84\n6   文科四班   81\n7   理科二班   79\n8   理科一班   78\n9   文科一班   72\n10  理科五班   70\n11  理科三班   68",
      "text/html": "<div>\n<style scoped>\n    .dataframe tbody tr th:only-of-type {\n        vertical-align: middle;\n    }\n\n    .dataframe tbody tr th {\n        vertical-align: top;\n    }\n\n    .dataframe thead th {\n        text-align: right;\n    }\n</style>\n<table border=\"1\" class=\"dataframe\">\n  <thead>\n    <tr style=\"text-align: right;\">\n      <th></th>\n      <th>clazz</th>\n      <th>cnt</th>\n    </tr>\n  </thead>\n  <tbody>\n    <tr>\n      <th>0</th>\n      <td>文科六班</td>\n      <td>104</td>\n    </tr>\n    <tr>\n      <th>1</th>\n      <td>文科三班</td>\n      <td>94</td>\n    </tr>\n    <tr>\n      <th>2</th>\n      <td>理科六班</td>\n      <td>92</td>\n    </tr>\n    <tr>\n      <th>3</th>\n      <td>理科四班</td>\n      <td>91</td>\n    </tr>\n    <tr>\n      <th>4</th>\n      <td>文科二班</td>\n      <td>87</td>\n    </tr>\n    <tr>\n      <th>5</th>\n      <td>文科五班</td>\n      <td>84</td>\n    </tr>\n    <tr>\n      <th>6</th>\n      <td>文科四班</td>\n      <td>81</td>\n    </tr>\n    <tr>\n      <th>7</th>\n      <td>理科二班</td>\n      <td>79</td>\n    </tr>\n    <tr>\n      <th>8</th>\n      <td>理科一班</td>\n      <td>78</td>\n    </tr>\n    <tr>\n      <th>9</th>\n      <td>文科一班</td>\n      <td>72</td>\n    </tr>\n    <tr>\n      <th>10</th>\n      <td>理科五班</td>\n      <td>70</td>\n    </tr>\n    <tr>\n      <th>11</th>\n      <td>理科三班</td>\n      <td>68</td>\n    </tr>\n  </tbody>\n</table>\n</div>"
     },
     "execution_count": 57,
     "metadata": {},
     "output_type": "execute_result"
    }
   ],
   "source": [
    "clazz_group_count2.sort_values('cnt',ascending=False).reset_index().drop(\"index\",axis=1)"
   ],
   "metadata": {
    "collapsed": false,
    "pycharm": {
     "name": "#%%\n"
    }
   }
  },
  {
   "cell_type": "code",
   "execution_count": 72,
   "outputs": [
    {
     "data": {
      "text/plain": "          cid  score          id name  age gendar clazz\n0     1000001     98  1500100001  施笑槐   22      女  文科六班\n1     1000002      5  1500100001  施笑槐   22      女  文科六班\n2     1000003    137  1500100001  施笑槐   22      女  文科六班\n3     1000004     29  1500100001  施笑槐   22      女  文科六班\n4     1000005     85  1500100001  施笑槐   22      女  文科六班\n...       ...    ...         ...  ...  ...    ...   ...\n5995  1000002     78  1500101000  符瑞渊   23      男  理科六班\n5996  1000003     81  1500101000  符瑞渊   23      男  理科六班\n5997  1000007      5  1500101000  符瑞渊   23      男  理科六班\n5998  1000008     87  1500101000  符瑞渊   23      男  理科六班\n5999  1000009     28  1500101000  符瑞渊   23      男  理科六班\n\n[6000 rows x 7 columns]",
      "text/html": "<div>\n<style scoped>\n    .dataframe tbody tr th:only-of-type {\n        vertical-align: middle;\n    }\n\n    .dataframe tbody tr th {\n        vertical-align: top;\n    }\n\n    .dataframe thead th {\n        text-align: right;\n    }\n</style>\n<table border=\"1\" class=\"dataframe\">\n  <thead>\n    <tr style=\"text-align: right;\">\n      <th></th>\n      <th>cid</th>\n      <th>score</th>\n      <th>id</th>\n      <th>name</th>\n      <th>age</th>\n      <th>gendar</th>\n      <th>clazz</th>\n    </tr>\n  </thead>\n  <tbody>\n    <tr>\n      <th>0</th>\n      <td>1000001</td>\n      <td>98</td>\n      <td>1500100001</td>\n      <td>施笑槐</td>\n      <td>22</td>\n      <td>女</td>\n      <td>文科六班</td>\n    </tr>\n    <tr>\n      <th>1</th>\n      <td>1000002</td>\n      <td>5</td>\n      <td>1500100001</td>\n      <td>施笑槐</td>\n      <td>22</td>\n      <td>女</td>\n      <td>文科六班</td>\n    </tr>\n    <tr>\n      <th>2</th>\n      <td>1000003</td>\n      <td>137</td>\n      <td>1500100001</td>\n      <td>施笑槐</td>\n      <td>22</td>\n      <td>女</td>\n      <td>文科六班</td>\n    </tr>\n    <tr>\n      <th>3</th>\n      <td>1000004</td>\n      <td>29</td>\n      <td>1500100001</td>\n      <td>施笑槐</td>\n      <td>22</td>\n      <td>女</td>\n      <td>文科六班</td>\n    </tr>\n    <tr>\n      <th>4</th>\n      <td>1000005</td>\n      <td>85</td>\n      <td>1500100001</td>\n      <td>施笑槐</td>\n      <td>22</td>\n      <td>女</td>\n      <td>文科六班</td>\n    </tr>\n    <tr>\n      <th>...</th>\n      <td>...</td>\n      <td>...</td>\n      <td>...</td>\n      <td>...</td>\n      <td>...</td>\n      <td>...</td>\n      <td>...</td>\n    </tr>\n    <tr>\n      <th>5995</th>\n      <td>1000002</td>\n      <td>78</td>\n      <td>1500101000</td>\n      <td>符瑞渊</td>\n      <td>23</td>\n      <td>男</td>\n      <td>理科六班</td>\n    </tr>\n    <tr>\n      <th>5996</th>\n      <td>1000003</td>\n      <td>81</td>\n      <td>1500101000</td>\n      <td>符瑞渊</td>\n      <td>23</td>\n      <td>男</td>\n      <td>理科六班</td>\n    </tr>\n    <tr>\n      <th>5997</th>\n      <td>1000007</td>\n      <td>5</td>\n      <td>1500101000</td>\n      <td>符瑞渊</td>\n      <td>23</td>\n      <td>男</td>\n      <td>理科六班</td>\n    </tr>\n    <tr>\n      <th>5998</th>\n      <td>1000008</td>\n      <td>87</td>\n      <td>1500101000</td>\n      <td>符瑞渊</td>\n      <td>23</td>\n      <td>男</td>\n      <td>理科六班</td>\n    </tr>\n    <tr>\n      <th>5999</th>\n      <td>1000009</td>\n      <td>28</td>\n      <td>1500101000</td>\n      <td>符瑞渊</td>\n      <td>23</td>\n      <td>男</td>\n      <td>理科六班</td>\n    </tr>\n  </tbody>\n</table>\n<p>6000 rows × 7 columns</p>\n</div>"
     },
     "execution_count": 72,
     "metadata": {},
     "output_type": "execute_result"
    }
   ],
   "source": [
    "# 关联\n",
    "score_df.merge(students_df,how=\"inner\",left_on=\"sid\",right_on=\"id\").drop(\"sid\",axis=1)\n",
    "\n"
   ],
   "metadata": {
    "collapsed": false,
    "pycharm": {
     "name": "#%%\n"
    }
   }
  },
  {
   "cell_type": "code",
   "execution_count": 78,
   "outputs": [],
   "source": [
    "# 统计每个学生的总分\n",
    "score_sum=score_df.groupby(\"sid\")[\"score\"].sum()"
   ],
   "metadata": {
    "collapsed": false,
    "pycharm": {
     "name": "#%%\n"
    }
   }
  },
  {
   "cell_type": "code",
   "execution_count": 83,
   "outputs": [],
   "source": [
    "rs=score_sum.reset_index()\n"
   ],
   "metadata": {
    "collapsed": false,
    "pycharm": {
     "name": "#%%\n"
    }
   }
  },
  {
   "cell_type": "code",
   "execution_count": 84,
   "outputs": [
    {
     "data": {
      "text/plain": "            sid  score_sum\n0    1500100001        406\n1    1500100002        440\n2    1500100003        359\n3    1500100004        421\n4    1500100005        395\n..          ...        ...\n995  1500100996        355\n996  1500100997        293\n997  1500100998        398\n998  1500100999        371\n999  1500101000        379\n\n[1000 rows x 2 columns]",
      "text/html": "<div>\n<style scoped>\n    .dataframe tbody tr th:only-of-type {\n        vertical-align: middle;\n    }\n\n    .dataframe tbody tr th {\n        vertical-align: top;\n    }\n\n    .dataframe thead th {\n        text-align: right;\n    }\n</style>\n<table border=\"1\" class=\"dataframe\">\n  <thead>\n    <tr style=\"text-align: right;\">\n      <th></th>\n      <th>sid</th>\n      <th>score_sum</th>\n    </tr>\n  </thead>\n  <tbody>\n    <tr>\n      <th>0</th>\n      <td>1500100001</td>\n      <td>406</td>\n    </tr>\n    <tr>\n      <th>1</th>\n      <td>1500100002</td>\n      <td>440</td>\n    </tr>\n    <tr>\n      <th>2</th>\n      <td>1500100003</td>\n      <td>359</td>\n    </tr>\n    <tr>\n      <th>3</th>\n      <td>1500100004</td>\n      <td>421</td>\n    </tr>\n    <tr>\n      <th>4</th>\n      <td>1500100005</td>\n      <td>395</td>\n    </tr>\n    <tr>\n      <th>...</th>\n      <td>...</td>\n      <td>...</td>\n    </tr>\n    <tr>\n      <th>995</th>\n      <td>1500100996</td>\n      <td>355</td>\n    </tr>\n    <tr>\n      <th>996</th>\n      <td>1500100997</td>\n      <td>293</td>\n    </tr>\n    <tr>\n      <th>997</th>\n      <td>1500100998</td>\n      <td>398</td>\n    </tr>\n    <tr>\n      <th>998</th>\n      <td>1500100999</td>\n      <td>371</td>\n    </tr>\n    <tr>\n      <th>999</th>\n      <td>1500101000</td>\n      <td>379</td>\n    </tr>\n  </tbody>\n</table>\n<p>1000 rows × 2 columns</p>\n</div>"
     },
     "execution_count": 84,
     "metadata": {},
     "output_type": "execute_result"
    }
   ],
   "source": [
    "rs.rename(columns={\"score\":\"score_sum\"})"
   ],
   "metadata": {
    "collapsed": false,
    "pycharm": {
     "name": "#%%\n"
    }
   }
  }
 ],
 "metadata": {
  "kernelspec": {
   "display_name": "Python 3 (ipykernel)",
   "language": "python",
   "name": "python3"
  },
  "language_info": {
   "codemirror_mode": {
    "name": "ipython",
    "version": 3
   },
   "file_extension": ".py",
   "mimetype": "text/x-python",
   "name": "python",
   "nbconvert_exporter": "python",
   "pygments_lexer": "ipython3",
   "version": "3.7.9"
  }
 },
 "nbformat": 4,
 "nbformat_minor": 5
}